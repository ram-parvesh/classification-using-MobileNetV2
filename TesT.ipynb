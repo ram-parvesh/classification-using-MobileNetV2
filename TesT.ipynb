{
 "cells": [
  {
   "cell_type": "code",
   "execution_count": 5,
   "id": "fdff5850",
   "metadata": {},
   "outputs": [],
   "source": [
    "import torch\n",
    "import torchvision\n",
    "import torchvision.transforms as transforms\n",
    "import glob\n",
    "import os\n",
    "import datetime,time\n",
    "import torch.nn as nn\n",
    "import torchvision.datasets as dsets\n",
    "import pandas as pd\n",
    "from torchvision.io import read_image\n",
    "import numpy as np\n"
   ]
  },
  {
   "cell_type": "code",
   "execution_count": 6,
   "id": "b2cd3cf3",
   "metadata": {},
   "outputs": [],
   "source": [
    "\n",
    "from dataset import CustomDatasetFromImages\n",
    "from MobileNet import MobileNetV2\n",
    "\n"
   ]
  },
  {
   "cell_type": "code",
   "execution_count": 7,
   "id": "2f065137",
   "metadata": {},
   "outputs": [
    {
     "name": "stdout",
     "output_type": "stream",
     "text": [
      "Test Accuracy of the model on the  test images: 63.83601756954612 %\n"
     ]
    }
   ],
   "source": [
    "img_dir ='images'\n",
    "test_annotations_file = \"test.csv\"\n",
    "batch_size = 1\n",
    "\n",
    "transforms = transforms.Compose([transforms.ToPILImage(),\n",
    "                                transforms.Resize([int(224), int(224)]),\n",
    "                                transforms.ToTensor(),\n",
    "                                transforms.Normalize([0.485, 0.456, 0.406], [0.229, 0.224, 0.225])])\n",
    "\n",
    "test_dataset = CustomDatasetFromImages(img_dir,test_annotations_file,transforms=transforms )\n",
    "\n",
    "\n",
    "test_loader = torch.utils.data.DataLoader(dataset=test_dataset,\n",
    "                                            batch_size=batch_size,\n",
    "                                            shuffle=False)\n",
    "\n",
    "model_dir = 'result_batch32.ckpt'\n",
    "device = torch.device('cuda' if torch.cuda.is_available() else 'cpu')\n",
    "# --------- 3. model define ---------\n",
    "net = MobileNetV2(width_mult=1).to(device)\n",
    "\n",
    "net.load_state_dict(torch.load(model_dir))\n",
    "net.eval() # eval model (batchnorm uses moving mean./varience instead of mini-batch mean and varience)\n",
    "with torch.no_grad():\n",
    "    correct = 0\n",
    "    total = 0\n",
    "    for images ,labels in test_loader:\n",
    "        images = images.to(device)\n",
    "        labels = labels.to(device)\n",
    "        outputs = net(images)\n",
    "        # print(\"outputs data\",outputs.data)\n",
    "        _ ,predicted =torch.max(outputs.data,1)\n",
    "        # print('outputs:',predicted,'label:',labels)\n",
    "        total += labels.size(0)\n",
    "        correct += (predicted==labels).sum().item()\n",
    "    print('Test Accuracy of the model on the  test images: {} %'.format(100 * correct / total))"
   ]
  },
  {
   "cell_type": "code",
   "execution_count": null,
   "id": "b5c84ec9",
   "metadata": {},
   "outputs": [],
   "source": []
  }
 ],
 "metadata": {
  "kernelspec": {
   "display_name": "Python 3 (ipykernel)",
   "language": "python",
   "name": "python3"
  },
  "language_info": {
   "codemirror_mode": {
    "name": "ipython",
    "version": 3
   },
   "file_extension": ".py",
   "mimetype": "text/x-python",
   "name": "python",
   "nbconvert_exporter": "python",
   "pygments_lexer": "ipython3",
   "version": "3.7.13"
  }
 },
 "nbformat": 4,
 "nbformat_minor": 5
}
